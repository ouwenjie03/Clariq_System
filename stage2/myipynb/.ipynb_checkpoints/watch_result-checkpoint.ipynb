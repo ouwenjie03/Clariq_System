{
 "cells": [
  {
   "cell_type": "code",
   "execution_count": 1,
   "metadata": {},
   "outputs": [],
   "source": [
    "import _pickle as pickle\n",
    "import re\n",
    "import pandas as pd"
   ]
  },
  {
   "cell_type": "code",
   "execution_count": 2,
   "metadata": {},
   "outputs": [],
   "source": [
    "devset = pickle.load(open('../data/dev_small_synthetic.pkl', 'rb'))"
   ]
  },
  {
   "cell_type": "code",
   "execution_count": 9,
   "metadata": {
    "scrolled": true
   },
   "outputs": [
    {
     "data": {
      "text/plain": [
       "0       8809\n",
       "1      42233\n",
       "2     124346\n",
       "3      97824\n",
       "4      38707\n",
       "5      64009\n",
       "6       8768\n",
       "7      63957\n",
       "8     124402\n",
       "9     133415\n",
       "10    108979\n",
       "11     12039\n",
       "12    119433\n",
       "13      7411\n",
       "14      9643\n",
       "15     69929\n",
       "16     11800\n",
       "17     98508\n",
       "18     85207\n",
       "19      7647\n",
       "20     82198\n",
       "21     89189\n",
       "22     37700\n",
       "23     82322\n",
       "24    923425\n",
       "25    135212\n",
       "26     37702\n",
       "27    972083\n",
       "28    138977\n",
       "29    139216\n",
       "       ...  \n",
       "70     95021\n",
       "71     10547\n",
       "72    124354\n",
       "73     28539\n",
       "74     98223\n",
       "75    905734\n",
       "76    118258\n",
       "77     84990\n",
       "78     30509\n",
       "79     11680\n",
       "80     47004\n",
       "81     84262\n",
       "82     38630\n",
       "83      8826\n",
       "84     10331\n",
       "85    118976\n",
       "86     85310\n",
       "87     11678\n",
       "88     24932\n",
       "89      3368\n",
       "90     62497\n",
       "91    102375\n",
       "92     24790\n",
       "93     43089\n",
       "94     11593\n",
       "95     89171\n",
       "96     28650\n",
       "97        10\n",
       "98    134897\n",
       "99    940847\n",
       "Name: 0, Length: 100, dtype: int64"
      ]
     },
     "execution_count": 9,
     "metadata": {},
     "output_type": "execute_result"
    }
   ],
   "source": [
    "result = pd.read_csv('../data/dev_small.result', sep=' ', header=None)\n"
   ]
  },
  {
   "cell_type": "code",
   "execution_count": 6,
   "metadata": {},
   "outputs": [
    {
     "data": {
      "text/plain": [
       "{'topic_id': 133,\n",
       " 'facet_id': 'F0138',\n",
       " 'initial_request': 'all men are created equal',\n",
       " 'question': 'would you like to learn about the author of that quote',\n",
       " 'answer': 'i need various quotes about independence',\n",
       " 'conversation_context': [{'question': 'would you like to know the gettysburg address',\n",
       "   'answer': 'no'}],\n",
       " 'context_id': 8809}"
      ]
     },
     "execution_count": 6,
     "metadata": {},
     "output_type": "execute_result"
    }
   ],
   "source": [
    "devset[98392]"
   ]
  },
  {
   "cell_type": "raw",
   "metadata": {},
   "source": [
    "for key, val in devset.items():\n",
    "    print(val['context_id'])\n",
    "    print(val['initial_request'])\n",
    "    for ctx in val['conversation_context']:\n",
    "        print(ctx['question'])\n",
    "        print(ctx['answer'])\n",
    "    print('gold: ', val['question'])\n",
    "    print('predict: ', result[str(val['context_id'])])\n",
    "    print('#'*20)"
   ]
  },
  {
   "cell_type": "code",
   "execution_count": null,
   "metadata": {},
   "outputs": [],
   "source": []
  }
 ],
 "metadata": {
  "kernelspec": {
   "display_name": "Python 3",
   "language": "python",
   "name": "python3"
  },
  "language_info": {
   "codemirror_mode": {
    "name": "ipython",
    "version": 3
   },
   "file_extension": ".py",
   "mimetype": "text/x-python",
   "name": "python",
   "nbconvert_exporter": "python",
   "pygments_lexer": "ipython3",
   "version": "3.6.5"
  }
 },
 "nbformat": 4,
 "nbformat_minor": 2
}
