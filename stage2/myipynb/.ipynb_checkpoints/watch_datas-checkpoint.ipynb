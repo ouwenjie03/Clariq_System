{
 "cells": [
  {
   "cell_type": "code",
   "execution_count": 1,
   "metadata": {},
   "outputs": [],
   "source": [
    "import _pickle as pickle\n",
    "import json\n",
    "import pandas as pd\n",
    "import numpy as np\n",
    "from tqdm import tqdm"
   ]
  },
  {
   "cell_type": "code",
   "execution_count": 2,
   "metadata": {},
   "outputs": [],
   "source": [
    "question_bank = pd.read_csv('../data/question_bank.tsv', sep='\\t')"
   ]
  },
  {
   "cell_type": "code",
   "execution_count": 3,
   "metadata": {},
   "outputs": [],
   "source": [
    "devset = pickle.load(open('../data/dev_synthetic.pkl', 'rb'))"
   ]
  },
  {
   "cell_type": "code",
   "execution_count": 4,
   "metadata": {},
   "outputs": [],
   "source": [
    "trainset = pickle.load(open('../data/train_synthetic.pkl', 'rb'))"
   ]
  },
  {
   "cell_type": "code",
   "execution_count": 5,
   "metadata": {},
   "outputs": [],
   "source": [
    "qid2question = {_id: _q for _id, _q in question_bank[['question_id', 'question']].values}"
   ]
  },
  {
   "cell_type": "code",
   "execution_count": null,
   "metadata": {},
   "outputs": [],
   "source": []
  },
  {
   "cell_type": "code",
   "execution_count": 52,
   "metadata": {},
   "outputs": [
    {
     "data": {
      "text/plain": [
       "array([ 842156,   29407,  105016,  430756,  130309,   90551,  736030,\n",
       "        263829, 1214494,  669712])"
      ]
     },
     "execution_count": 52,
     "metadata": {},
     "output_type": "execute_result"
    }
   ],
   "source": [
    "np.random.choice(list(trainset.keys()), size=10, replace=False)"
   ]
  },
  {
   "cell_type": "code",
   "execution_count": 57,
   "metadata": {},
   "outputs": [
    {
     "data": {
      "text/plain": [
       "{'topic_id': 137,\n",
       " 'facet_id': 'F0149',\n",
       " 'initial_request': 'tell me about rock and gem shows',\n",
       " 'question': 'what local rock and gem shows are you looking for from this list',\n",
       " 'answer': 'i dont know yet',\n",
       " 'conversation_context': [{'question': 'are you curious about rock and gem shows',\n",
       "   'answer': 'yes locations and dates'},\n",
       "  {'question': 'would you like to learn about rock and gem shows in california',\n",
       "   'answer': 'yes'}],\n",
       " 'context_id': 101051}"
      ]
     },
     "execution_count": 57,
     "metadata": {},
     "output_type": "execute_result"
    }
   ],
   "source": [
    "trainset[669712]"
   ]
  },
  {
   "cell_type": "code",
   "execution_count": null,
   "metadata": {},
   "outputs": [],
   "source": []
  },
  {
   "cell_type": "code",
   "execution_count": 7,
   "metadata": {},
   "outputs": [],
   "source": [
    "# build eval_score\n",
    "deveval = pickle.load(open('../data/multi_turn_dev_eval.pkl', 'rb'))"
   ]
  },
  {
   "cell_type": "code",
   "execution_count": 6,
   "metadata": {},
   "outputs": [],
   "source": [
    "traineval = pickle.load(open('../data/multi_turn_train_eval.pkl', 'rb'))"
   ]
  },
  {
   "cell_type": "code",
   "execution_count": null,
   "metadata": {},
   "outputs": [],
   "source": []
  },
  {
   "cell_type": "code",
   "execution_count": 8,
   "metadata": {
    "scrolled": true
   },
   "outputs": [],
   "source": [
    "def get_cid2maxq(evalset):\n",
    "    cid2maxq = {}\n",
    "    for cid, value in tqdm(evalset['NDCG3'].items()):\n",
    "        cid2maxq[cid] = []\n",
    "        if value['MAX']['with_answer'] == 0:\n",
    "            continue\n",
    "        for k in value.keys():\n",
    "            if k == 'MAX' or k == 'MIN':\n",
    "                continue\n",
    "            if value[k]['with_answer'] == value['MAX']['with_answer']:\n",
    "                cid2maxq[cid].append((qid2question[k], value[k]['with_answer']))\n",
    "    return cid2maxq"
   ]
  },
  {
   "cell_type": "code",
   "execution_count": 10,
   "metadata": {},
   "outputs": [
    {
     "name": "stderr",
     "output_type": "stream",
     "text": [
      "100%|██████████| 15066/15066 [00:00<00:00, 113784.54it/s]\n"
     ]
    },
    {
     "data": {
      "text/plain": [
       "15066"
      ]
     },
     "execution_count": 10,
     "metadata": {},
     "output_type": "execute_result"
    }
   ],
   "source": [
    "dev_cid2maxq = get_cid2maxq(deveval)\n",
    "len(dev_cid2maxq)"
   ]
  },
  {
   "cell_type": "code",
   "execution_count": 11,
   "metadata": {},
   "outputs": [
    {
     "name": "stderr",
     "output_type": "stream",
     "text": [
      "100%|██████████| 61200/61200 [00:02<00:00, 20548.16it/s] \n"
     ]
    },
    {
     "data": {
      "text/plain": [
       "61200"
      ]
     },
     "execution_count": 11,
     "metadata": {},
     "output_type": "execute_result"
    }
   ],
   "source": [
    "train_cid2maxq = get_cid2maxq(traineval)\n",
    "len(train_cid2maxq)"
   ]
  },
  {
   "cell_type": "code",
   "execution_count": null,
   "metadata": {},
   "outputs": [],
   "source": []
  },
  {
   "cell_type": "code",
   "execution_count": 12,
   "metadata": {},
   "outputs": [],
   "source": [
    "def get_max_keys(dataset, cid2maxq):\n",
    "    max_keys = []\n",
    "    for key, value in tqdm(dataset.items()):\n",
    "        tmp = [_v[0] for _v in cid2maxq.get(value['context_id'], [])]\n",
    "        if value['question'] in tmp:\n",
    "            max_keys.append(key)\n",
    "    return max_keys"
   ]
  },
  {
   "cell_type": "code",
   "execution_count": 13,
   "metadata": {},
   "outputs": [
    {
     "name": "stderr",
     "output_type": "stream",
     "text": [
      "100%|██████████| 182435/182435 [00:00<00:00, 479521.53it/s]\n"
     ]
    },
    {
     "data": {
      "text/plain": [
       "38703"
      ]
     },
     "execution_count": 13,
     "metadata": {},
     "output_type": "execute_result"
    }
   ],
   "source": [
    "dev_max_keys = get_max_keys(devset, dev_cid2maxq)\n",
    "len(dev_max_keys)"
   ]
  },
  {
   "cell_type": "code",
   "execution_count": 14,
   "metadata": {},
   "outputs": [
    {
     "name": "stderr",
     "output_type": "stream",
     "text": [
      "100%|██████████| 744869/744869 [00:00<00:00, 765271.48it/s]\n"
     ]
    },
    {
     "data": {
      "text/plain": [
       "150968"
      ]
     },
     "execution_count": 14,
     "metadata": {},
     "output_type": "execute_result"
    }
   ],
   "source": [
    "train_max_keys = get_max_keys(trainset, train_cid2maxq)\n",
    "len(train_max_keys)"
   ]
  },
  {
   "cell_type": "code",
   "execution_count": 18,
   "metadata": {},
   "outputs": [],
   "source": [
    "new_devset = {_k: devset[_k] for _k in dev_max_keys}\n",
    "new_trainset = {_k: trainset[_k] for _k in train_max_keys}"
   ]
  },
  {
   "cell_type": "code",
   "execution_count": null,
   "metadata": {},
   "outputs": [],
   "source": []
  },
  {
   "cell_type": "markdown",
   "metadata": {},
   "source": [
    "# add facet_desc"
   ]
  },
  {
   "cell_type": "code",
   "execution_count": 15,
   "metadata": {},
   "outputs": [],
   "source": [
    "qulac_data = json.load(open('../data/qulac.json', 'r', encoding='utf-8'))"
   ]
  },
  {
   "cell_type": "code",
   "execution_count": 16,
   "metadata": {},
   "outputs": [],
   "source": [
    "df = pd.DataFrame()\n",
    "for key in qulac_data.keys():\n",
    "    df[key] = list(qulac_data[key].values())"
   ]
  },
  {
   "cell_type": "code",
   "execution_count": null,
   "metadata": {},
   "outputs": [],
   "source": []
  },
  {
   "cell_type": "code",
   "execution_count": 21,
   "metadata": {},
   "outputs": [],
   "source": [
    "def build_desc(dataset):\n",
    "    err_keys = []\n",
    "    for key in tqdm(dataset.keys()):\n",
    "        t1 = df['topic_id'] == dataset[key]['topic_id']\n",
    "        t2 = df['question'] == dataset[key]['question']\n",
    "        t3 = df['answer'] == dataset[key]['answer']\n",
    "        tmp_df = df[t1 & t2]\n",
    "        if len(tmp_df) < 1:\n",
    "            err_keys.append(key)\n",
    "            continue\n",
    "        dataset[key]['topic_desc'] = tmp_df['topic_desc'].values[0]\n",
    "        dataset[key]['facet_desc'] = tmp_df['facet_desc'].values[0]\n",
    "    return dataset, err_keys"
   ]
  },
  {
   "cell_type": "code",
   "execution_count": 22,
   "metadata": {},
   "outputs": [
    {
     "name": "stderr",
     "output_type": "stream",
     "text": [
      "100%|██████████| 38703/38703 [01:35<00:00, 406.53it/s]"
     ]
    },
    {
     "name": "stdout",
     "output_type": "stream",
     "text": [
      "38703 1822\n"
     ]
    },
    {
     "name": "stderr",
     "output_type": "stream",
     "text": [
      "\n"
     ]
    }
   ],
   "source": [
    "new_devset, dev_errkeys = build_desc(new_devset)\n",
    "print(len(new_devset), len(dev_errkeys))"
   ]
  },
  {
   "cell_type": "code",
   "execution_count": 20,
   "metadata": {},
   "outputs": [
    {
     "name": "stderr",
     "output_type": "stream",
     "text": [
      "100%|██████████| 150968/150968 [07:03<00:00, 356.31it/s]"
     ]
    },
    {
     "name": "stdout",
     "output_type": "stream",
     "text": [
      "150968 4185\n"
     ]
    },
    {
     "name": "stderr",
     "output_type": "stream",
     "text": [
      "\n"
     ]
    }
   ],
   "source": [
    "new_trainset, train_errkeys = build_desc(new_trainset)\n",
    "print(len(new_trainset), len(train_errkeys))"
   ]
  },
  {
   "cell_type": "code",
   "execution_count": null,
   "metadata": {},
   "outputs": [],
   "source": []
  },
  {
   "cell_type": "code",
   "execution_count": 39,
   "metadata": {},
   "outputs": [],
   "source": [
    "tmpset = set(train_errkeys)\n",
    "tmpkeys = [_k for _k in new_trainset.keys() if _k not in tmpset]"
   ]
  },
  {
   "cell_type": "code",
   "execution_count": 58,
   "metadata": {},
   "outputs": [
    {
     "data": {
      "text/plain": [
       "array([769481, 743694, 547838, 460796, 508755, 208171, 699225, 623451,\n",
       "       704995, 432022])"
      ]
     },
     "execution_count": 58,
     "metadata": {},
     "output_type": "execute_result"
    }
   ],
   "source": [
    "np.random.choice(tmpkeys, size=10, replace=False)"
   ]
  },
  {
   "cell_type": "code",
   "execution_count": 63,
   "metadata": {},
   "outputs": [
    {
     "data": {
      "text/plain": [
       "{'topic_id': 149,\n",
       " 'facet_id': 'F0189',\n",
       " 'initial_request': 'Tell me about uplift at yellowstone national park',\n",
       " 'question': 'would you like to know why some scientists think the yellowstone volcano is in the process of dying',\n",
       " 'answer': 'yes',\n",
       " 'conversation_context': [{'question': 'what would you like to know about uplift',\n",
       "   'answer': 'i would like to know how likely it would be and what effects an eruption yellowstone national park would be'},\n",
       "  {'question': 'would you like to see a ground map showing the uplift of yellowstone national park',\n",
       "   'answer': 'yes please and maybe an airiel map as well'}],\n",
       " 'context_id': 106974,\n",
       " 'topic_desc': 'How likely is a volcanic eruption at Yellowstone National Park, and what would be the effects of such an eruption?',\n",
       " 'facet_desc': 'How likely is a volcanic eruption at Yellowstone National Park, and what would be the effects of such an eruption?'}"
      ]
     },
     "execution_count": 63,
     "metadata": {},
     "output_type": "execute_result"
    }
   ],
   "source": [
    "new_trainset[704995]"
   ]
  },
  {
   "cell_type": "code",
   "execution_count": 64,
   "metadata": {},
   "outputs": [
    {
     "data": {
      "text/plain": [
       "{'topic_id': 149,\n",
       " 'facet_id': 'F0190',\n",
       " 'initial_request': 'Tell me about uplift at yellowstone national park',\n",
       " 'question': 'would you like to know why some scientists think the yellowstone volcano is in the process of dying',\n",
       " 'answer': 'no i need information on geothermal activity',\n",
       " 'conversation_context': [{'question': 'what would you like to know about uplift',\n",
       "   'answer': 'i would like to know about the ground elevation changes and movement resulting from ongoing lowlevel geothermal activity at yellowstone national park'},\n",
       "  {'question': 'would you like to see a ground map showing the uplift of yellowstone national park',\n",
       "   'answer': 'yes'}],\n",
       " 'context_id': 106975,\n",
       " 'topic_desc': 'How likely is a volcanic eruption at Yellowstone National Park, and what would be the effects of such an eruption?',\n",
       " 'facet_desc': 'information on ground elevation changes and movement resulting from ongoing low-level geothermal activity at Yellowstone National Park'}"
      ]
     },
     "execution_count": 64,
     "metadata": {},
     "output_type": "execute_result"
    }
   ],
   "source": [
    "new_trainset[704996]"
   ]
  },
  {
   "cell_type": "code",
   "execution_count": 65,
   "metadata": {},
   "outputs": [
    {
     "data": {
      "text/plain": [
       "{'topic_id': 149,\n",
       " 'facet_id': 'F0191',\n",
       " 'initial_request': 'Tell me about uplift at yellowstone national park',\n",
       " 'question': 'would you like to know why some scientists think the yellowstone volcano is in the process of dying',\n",
       " 'answer': 'i am not interested in this topic',\n",
       " 'conversation_context': [{'question': 'what would you like to know about uplift',\n",
       "   'answer': 'i want the yellowstone volcano observatory homepage'},\n",
       "  {'question': 'would you like to see a ground map showing the uplift of yellowstone national park',\n",
       "   'answer': 'yes'}],\n",
       " 'context_id': 106976,\n",
       " 'topic_desc': 'How likely is a volcanic eruption at Yellowstone National Park, and what would be the effects of such an eruption?',\n",
       " 'facet_desc': 'home page for the Yellowstone Volcano Observatory'}"
      ]
     },
     "execution_count": 65,
     "metadata": {},
     "output_type": "execute_result"
    }
   ],
   "source": [
    "new_trainset[704997]"
   ]
  },
  {
   "cell_type": "code",
   "execution_count": 68,
   "metadata": {},
   "outputs": [
    {
     "data": {
      "text/plain": [
       "{'topic_id': 149,\n",
       " 'facet_id': 'F0189',\n",
       " 'initial_request': 'Tell me about uplift at yellowstone national park',\n",
       " 'question': 'would you like to know why some scientists think the yellowstone volcano is in the process of dying',\n",
       " 'answer': 'yes',\n",
       " 'conversation_context': [{'question': 'would you like more information of the course of the yellowstone volcano and the different hypothesizes scientest have',\n",
       "   'answer': 'no i want to know what the likelihood is of an eruption and the effects of it'},\n",
       "  {'question': 'would you like to know about yellowstones history of eruptions',\n",
       "   'answer': 'i want to know about future eruption likelihood'}],\n",
       " 'context_id': 106782,\n",
       " 'topic_desc': 'How likely is a volcanic eruption at Yellowstone National Park, and what would be the effects of such an eruption?',\n",
       " 'facet_desc': 'How likely is a volcanic eruption at Yellowstone National Park, and what would be the effects of such an eruption?'}"
      ]
     },
     "execution_count": 68,
     "metadata": {},
     "output_type": "execute_result"
    }
   ],
   "source": [
    "new_trainset[704998]"
   ]
  },
  {
   "cell_type": "code",
   "execution_count": null,
   "metadata": {},
   "outputs": [],
   "source": []
  },
  {
   "cell_type": "code",
   "execution_count": null,
   "metadata": {},
   "outputs": [],
   "source": []
  },
  {
   "cell_type": "code",
   "execution_count": null,
   "metadata": {},
   "outputs": [],
   "source": []
  },
  {
   "cell_type": "code",
   "execution_count": null,
   "metadata": {},
   "outputs": [],
   "source": []
  },
  {
   "cell_type": "code",
   "execution_count": 25,
   "metadata": {},
   "outputs": [
    {
     "data": {
      "text/plain": [
       "{'Q00384': {'no_answer': 1.0, 'with_answer': 1.0},\n",
       " 'Q00001': {'with_answer': 1.0, 'no_answer': 1.0},\n",
       " 'Q03442': {'no_answer': 0.5, 'with_answer': 1.0},\n",
       " 'Q03402': {'no_answer': 0.5, 'with_answer': 1.0},\n",
       " 'Q03725': {'no_answer': 0.5, 'with_answer': 1.0},\n",
       " 'Q00769': {'no_answer': 0.16666666666666666, 'with_answer': 1.0},\n",
       " 'Q01286': {'no_answer': 1.0, 'with_answer': 1.0},\n",
       " 'Q02152': {'no_answer': 1.0, 'with_answer': 0.5},\n",
       " 'Q02527': {'no_answer': 0.5, 'with_answer': 1.0},\n",
       " 'Q02950': {'no_answer': 0.5, 'with_answer': 0.5},\n",
       " 'Q03023': {'no_answer': 0.3333333333333333, 'with_answer': 1.0},\n",
       " 'Q03071': {'no_answer': 0.5, 'with_answer': 0.5},\n",
       " 'Q03351': {'no_answer': 0.5, 'with_answer': 1.0},\n",
       " 'MAX': {'with_answer': 1.0, 'no_answer': 1.0},\n",
       " 'MIN': {'with_answer': 0.5, 'no_answer': 0.16666666666666666}}"
      ]
     },
     "execution_count": 25,
     "metadata": {},
     "output_type": "execute_result"
    }
   ],
   "source": [
    "traineval['MRR100'][2]"
   ]
  },
  {
   "cell_type": "code",
   "execution_count": 38,
   "metadata": {},
   "outputs": [
    {
     "data": {
      "text/plain": [
       "{'Q00706': {'no_answer': 0.0, 'with_answer': 0.2960819109658653},\n",
       " 'Q00001': {'with_answer': 0.2960819109658653,\n",
       "  'no_answer': 0.2960819109658653},\n",
       " 'Q03340': {'no_answer': 0.46927872602275655,\n",
       "  'with_answer': 0.2960819109658653},\n",
       " 'Q03826': {'no_answer': 0.0, 'with_answer': 0.46927872602275655},\n",
       " 'Q03895': {'no_answer': 0.0, 'with_answer': 0.0},\n",
       " 'Q00756': {'no_answer': 0.0, 'with_answer': 0.0},\n",
       " 'Q01185': {'no_answer': 0.7653606369886218,\n",
       "  'with_answer': 0.7653606369886218},\n",
       " 'Q01578': {'no_answer': 0.0, 'with_answer': 0.0},\n",
       " 'Q01596': {'no_answer': 0.0, 'with_answer': 0.0},\n",
       " 'Q02191': {'no_answer': 0.0, 'with_answer': 0.0},\n",
       " 'Q02762': {'no_answer': 0.0, 'with_answer': 0.2960819109658653},\n",
       " 'Q02817': {'no_answer': 0.0, 'with_answer': 0.0},\n",
       " 'Q02907': {'no_answer': 0.0, 'with_answer': 0.0},\n",
       " 'MAX': {'with_answer': 0.7653606369886218, 'no_answer': 0.7653606369886218},\n",
       " 'MIN': {'with_answer': 0.0, 'no_answer': 0.0}}"
      ]
     },
     "execution_count": 38,
     "metadata": {},
     "output_type": "execute_result"
    }
   ],
   "source": [
    "deveval['NDCG3'][968]"
   ]
  },
  {
   "cell_type": "code",
   "execution_count": 41,
   "metadata": {},
   "outputs": [
    {
     "data": {
      "text/html": [
       "<div>\n",
       "<style scoped>\n",
       "    .dataframe tbody tr th:only-of-type {\n",
       "        vertical-align: middle;\n",
       "    }\n",
       "\n",
       "    .dataframe tbody tr th {\n",
       "        vertical-align: top;\n",
       "    }\n",
       "\n",
       "    .dataframe thead th {\n",
       "        text-align: right;\n",
       "    }\n",
       "</style>\n",
       "<table border=\"1\" class=\"dataframe\">\n",
       "  <thead>\n",
       "    <tr style=\"text-align: right;\">\n",
       "      <th></th>\n",
       "      <th>question_id</th>\n",
       "      <th>question</th>\n",
       "    </tr>\n",
       "  </thead>\n",
       "  <tbody>\n",
       "    <tr>\n",
       "      <th>1184</th>\n",
       "      <td>Q01185</td>\n",
       "      <td>are you offering appraisal services</td>\n",
       "    </tr>\n",
       "  </tbody>\n",
       "</table>\n",
       "</div>"
      ],
      "text/plain": [
       "     question_id                             question\n",
       "1184      Q01185  are you offering appraisal services"
      ]
     },
     "execution_count": 41,
     "metadata": {},
     "output_type": "execute_result"
    }
   ],
   "source": [
    "question_bank[question_bank['question_id'] == 'Q01185']"
   ]
  },
  {
   "cell_type": "code",
   "execution_count": 44,
   "metadata": {},
   "outputs": [],
   "source": [
    "\n",
    "    "
   ]
  },
  {
   "cell_type": "code",
   "execution_count": 46,
   "metadata": {},
   "outputs": [
    {
     "data": {
      "text/plain": [
       "15066"
      ]
     },
     "execution_count": 46,
     "metadata": {},
     "output_type": "execute_result"
    }
   ],
   "source": [
    "len(cid2maxq)"
   ]
  },
  {
   "cell_type": "code",
   "execution_count": null,
   "metadata": {},
   "outputs": [],
   "source": []
  },
  {
   "cell_type": "code",
   "execution_count": null,
   "metadata": {},
   "outputs": [],
   "source": []
  },
  {
   "cell_type": "code",
   "execution_count": 11,
   "metadata": {},
   "outputs": [],
   "source": [
    "tidfid2data = {}\n",
    "for key, value in devset.items():\n",
    "    newkey = '{}-{}-{}'.format(value['topic_id'], value['facet_id'], len(value['conversation_context']))\n",
    "    if newkey not in tidfid2data:\n",
    "        tidfid2data[newkey] = []\n",
    "    tidfid2data[newkey].append(key)"
   ]
  },
  {
   "cell_type": "code",
   "execution_count": 12,
   "metadata": {},
   "outputs": [
    {
     "data": {
      "text/plain": [
       "474"
      ]
     },
     "execution_count": 12,
     "metadata": {},
     "output_type": "execute_result"
    }
   ],
   "source": [
    "len(tidfid2data)"
   ]
  },
  {
   "cell_type": "code",
   "execution_count": 13,
   "metadata": {
    "scrolled": true
   },
   "outputs": [
    {
     "data": {
      "text/plain": [
       "dict_keys(['8-F0968-0', '8-F0969-0', '8-F0970-0', '8-F0971-0', '18-F0316-0', '18-F0317-0', '18-F0318-0', '18-F0319-0', '18-F0320-0', '20-F0395-0', '20-F0396-0', '20-F0397-0', '20-F0398-0', '24-F0539-0', '24-F0540-0', '24-F0541-0', '24-F0542-0', '25-F0572-0', '25-F0573-0', '25-F0574-0', '27-F0630-0', '27-F0631-0', '27-F0632-0', '27-F0633-0', '27-F0634-0', '35-F0774-0', '35-F0775-0', '35-F0776-0', '35-F0777-0', '35-F0778-0', '35-F0779-0', '37-F0782-0', '37-F0783-0', '37-F0784-0', '37-F0785-0', '44-F0813-0', '44-F0814-0', '44-F0815-0', '44-F0816-0', '44-F0817-0', '45-F0818-0', '45-F0819-0', '45-F0820-0', '51-F0841-0', '51-F0842-0', '51-F0843-0', '51-F0844-0', '51-F0845-0', '71-F0932-0', '71-F0933-0', '71-F0934-0', '71-F0935-0', '74-F0943-0', '74-F0944-0', '74-F0945-0', '79-F0964-0', '79-F0965-0', '79-F0966-0', '79-F0967-0', '83-F0981-0', '83-F0982-0', '83-F0983-0', '85-F0987-0', '85-F0988-0', '85-F0989-0', '85-F0990-0', '101-F0010-0', '101-F0011-0', '101-F0012-0', '101-F0013-0', '106-F0028-0', '106-F0029-0', '106-F0030-0', '107-F0031-0', '107-F0032-0', '107-F0033-0', '107-F0034-0', '107-F0035-0', '107-F0036-0', '110-F0050-0', '110-F0051-0', '110-F0052-0', '114-F0063-0', '114-F0064-0', '114-F0065-0', '118-F0078-0', '118-F0079-0', '118-F0080-0', '118-F0081-0', '123-F0100-0', '123-F0101-0', '123-F0102-0', '126-F0110-0', '126-F0111-0', '128-F0114-0', '128-F0115-0', '128-F0116-0', '133-F0134-0', '133-F0135-0', '133-F0136-0', '133-F0137-0', '133-F0138-0', '139-F0156-0', '139-F0157-0', '139-F0158-0', '142-F0170-0', '142-F0171-0', '142-F0172-0', '152-F0201-0', '152-F0202-0', '152-F0203-0', '152-F0204-0', '164-F0254-0', '164-F0255-0', '164-F0256-0', '164-F0257-0', '165-F0258-0', '165-F0259-0', '165-F0260-0', '165-F0261-0', '169-F0268-0', '169-F0269-0', '169-F0270-0', '169-F0271-0', '174-F0293-0', '174-F0294-0', '174-F0295-0', '174-F0296-0', '174-F0297-0', '190-F0359-0', '190-F0360-0', '190-F0361-0', '191-F0362-0', '191-F0363-0', '191-F0364-0', '191-F0365-0', '193-F0369-0', '193-F0370-0', '193-F0371-0', '195-F0375-0', '195-F0376-0', '195-F0377-0', '195-F0378-0', '200-F0399-0', '200-F0400-0', '200-F0401-0', '200-F0402-0', '8-F0968-1', '8-F0969-1', '8-F0970-1', '8-F0971-1', '18-F0316-1', '18-F0317-1', '18-F0318-1', '18-F0319-1', '18-F0320-1', '20-F0395-1', '20-F0396-1', '20-F0397-1', '20-F0398-1', '24-F0539-1', '24-F0540-1', '24-F0541-1', '24-F0542-1', '25-F0572-1', '25-F0573-1', '25-F0574-1', '27-F0630-1', '27-F0631-1', '27-F0632-1', '27-F0633-1', '27-F0634-1', '35-F0774-1', '35-F0775-1', '35-F0776-1', '35-F0777-1', '35-F0778-1', '35-F0779-1', '37-F0782-1', '37-F0783-1', '37-F0784-1', '37-F0785-1', '44-F0813-1', '44-F0814-1', '44-F0815-1', '44-F0816-1', '44-F0817-1', '45-F0818-1', '45-F0819-1', '45-F0820-1', '51-F0841-1', '51-F0842-1', '51-F0843-1', '51-F0844-1', '51-F0845-1', '71-F0932-1', '71-F0933-1', '71-F0934-1', '71-F0935-1', '74-F0943-1', '74-F0944-1', '74-F0945-1', '79-F0964-1', '79-F0965-1', '79-F0966-1', '79-F0967-1', '83-F0981-1', '83-F0982-1', '83-F0983-1', '85-F0987-1', '85-F0988-1', '85-F0989-1', '85-F0990-1', '101-F0010-1', '101-F0011-1', '101-F0012-1', '101-F0013-1', '106-F0028-1', '106-F0029-1', '106-F0030-1', '107-F0031-1', '107-F0032-1', '107-F0033-1', '107-F0034-1', '107-F0035-1', '107-F0036-1', '110-F0050-1', '110-F0051-1', '110-F0052-1', '114-F0063-1', '114-F0064-1', '114-F0065-1', '118-F0078-1', '118-F0079-1', '118-F0080-1', '118-F0081-1', '123-F0100-1', '123-F0101-1', '123-F0102-1', '126-F0110-1', '126-F0111-1', '128-F0114-1', '128-F0115-1', '128-F0116-1', '133-F0134-1', '133-F0135-1', '133-F0136-1', '133-F0137-1', '133-F0138-1', '139-F0156-1', '139-F0157-1', '139-F0158-1', '142-F0170-1', '142-F0171-1', '142-F0172-1', '152-F0201-1', '152-F0202-1', '152-F0203-1', '152-F0204-1', '164-F0254-1', '164-F0255-1', '164-F0256-1', '164-F0257-1', '165-F0258-1', '165-F0259-1', '165-F0260-1', '165-F0261-1', '169-F0268-1', '169-F0269-1', '169-F0270-1', '169-F0271-1', '174-F0293-1', '174-F0294-1', '174-F0295-1', '174-F0296-1', '174-F0297-1', '190-F0359-1', '190-F0360-1', '190-F0361-1', '191-F0362-1', '191-F0363-1', '191-F0364-1', '191-F0365-1', '193-F0369-1', '193-F0370-1', '193-F0371-1', '195-F0375-1', '195-F0376-1', '195-F0377-1', '195-F0378-1', '200-F0399-1', '200-F0400-1', '200-F0401-1', '200-F0402-1', '8-F0968-2', '8-F0969-2', '8-F0970-2', '8-F0971-2', '18-F0316-2', '18-F0317-2', '18-F0318-2', '18-F0319-2', '18-F0320-2', '20-F0395-2', '20-F0396-2', '20-F0397-2', '20-F0398-2', '24-F0539-2', '24-F0540-2', '24-F0541-2', '24-F0542-2', '25-F0572-2', '25-F0573-2', '25-F0574-2', '27-F0630-2', '27-F0631-2', '27-F0632-2', '27-F0633-2', '27-F0634-2', '35-F0774-2', '35-F0775-2', '35-F0776-2', '35-F0777-2', '35-F0778-2', '35-F0779-2', '37-F0782-2', '37-F0783-2', '37-F0784-2', '37-F0785-2', '44-F0813-2', '44-F0814-2', '44-F0815-2', '44-F0816-2', '44-F0817-2', '45-F0818-2', '45-F0819-2', '45-F0820-2', '51-F0841-2', '51-F0842-2', '51-F0843-2', '51-F0844-2', '51-F0845-2', '71-F0932-2', '71-F0933-2', '71-F0934-2', '71-F0935-2', '74-F0943-2', '74-F0944-2', '74-F0945-2', '79-F0964-2', '79-F0965-2', '79-F0966-2', '79-F0967-2', '83-F0981-2', '83-F0982-2', '83-F0983-2', '85-F0987-2', '85-F0988-2', '85-F0989-2', '85-F0990-2', '101-F0010-2', '101-F0011-2', '101-F0012-2', '101-F0013-2', '106-F0028-2', '106-F0029-2', '106-F0030-2', '107-F0031-2', '107-F0032-2', '107-F0033-2', '107-F0034-2', '107-F0035-2', '107-F0036-2', '110-F0050-2', '110-F0051-2', '110-F0052-2', '114-F0063-2', '114-F0064-2', '114-F0065-2', '118-F0078-2', '118-F0079-2', '118-F0080-2', '118-F0081-2', '123-F0100-2', '123-F0101-2', '123-F0102-2', '126-F0110-2', '126-F0111-2', '128-F0114-2', '128-F0115-2', '128-F0116-2', '133-F0134-2', '133-F0135-2', '133-F0136-2', '133-F0137-2', '133-F0138-2', '139-F0156-2', '139-F0157-2', '139-F0158-2', '142-F0170-2', '142-F0171-2', '142-F0172-2', '152-F0201-2', '152-F0202-2', '152-F0203-2', '152-F0204-2', '164-F0254-2', '164-F0255-2', '164-F0256-2', '164-F0257-2', '165-F0258-2', '165-F0259-2', '165-F0260-2', '165-F0261-2', '169-F0268-2', '169-F0269-2', '169-F0270-2', '169-F0271-2', '174-F0293-2', '174-F0294-2', '174-F0295-2', '174-F0296-2', '174-F0297-2', '190-F0359-2', '190-F0360-2', '190-F0361-2', '191-F0362-2', '191-F0363-2', '191-F0364-2', '191-F0365-2', '193-F0369-2', '193-F0370-2', '193-F0371-2', '195-F0375-2', '195-F0376-2', '195-F0377-2', '195-F0378-2', '200-F0399-2', '200-F0400-2', '200-F0401-2', '200-F0402-2', '214-F0466-0', '219-F0481-0', '229-F0511-0', '250-F0575-0', '252-F0577-0', '256-F0594-0', '262-F0619-0', '283-F0693-0', '287-F0699-0', '292-F0728-0', '293-F0729-0', '214-F0466-1', '219-F0481-1', '229-F0511-1', '250-F0575-1', '252-F0577-1', '256-F0594-1', '262-F0619-1', '283-F0693-1', '287-F0699-1', '292-F0728-1', '293-F0729-1', '214-F0466-2', '219-F0481-2', '229-F0511-2', '250-F0575-2', '252-F0577-2', '256-F0594-2', '262-F0619-2', '283-F0693-2', '287-F0699-2', '292-F0728-2', '293-F0729-2'])"
      ]
     },
     "execution_count": 13,
     "metadata": {},
     "output_type": "execute_result"
    }
   ],
   "source": [
    "tidfid2data.keys()"
   ]
  },
  {
   "cell_type": "code",
   "execution_count": 21,
   "metadata": {},
   "outputs": [
    {
     "data": {
      "text/plain": [
       "[2287, 2291, 2295, 2299, 2303, 2307, 2311, 2315, 2319, 2323, 2327, 2331]"
      ]
     },
     "execution_count": 21,
     "metadata": {},
     "output_type": "execute_result"
    }
   ],
   "source": [
    "tidfid2data['8-F0968-0']"
   ]
  },
  {
   "cell_type": "code",
   "execution_count": 24,
   "metadata": {},
   "outputs": [
    {
     "name": "stderr",
     "output_type": "stream",
     "text": [
      "100%|██████████| 182435/182435 [00:00<00:00, 353977.83it/s]\n"
     ]
    }
   ],
   "source": [
    "search_q = 'are you looking for appraisal companies near you'\n",
    "match_keys = []\n",
    "for key, value in tqdm(devset.items()):\n",
    "    if value['question'] == search_q:\n",
    "        match_keys.append(key)\n",
    "    else:\n",
    "        tmp = [_v['question'] for _v in value['conversation_context']]\n",
    "        if search_q in tmp:\n",
    "            match_keys.append(key)"
   ]
  },
  {
   "cell_type": "code",
   "execution_count": 25,
   "metadata": {},
   "outputs": [
    {
     "data": {
      "text/plain": [
       "[2291,\n",
       " 2292,\n",
       " 2293,\n",
       " 2294,\n",
       " 15755,\n",
       " 15756,\n",
       " 15757,\n",
       " 15758,\n",
       " 15799,\n",
       " 15800,\n",
       " 15801,\n",
       " 15802,\n",
       " 15803,\n",
       " 15804,\n",
       " 15805,\n",
       " 15806,\n",
       " 15807,\n",
       " 15808,\n",
       " 15809,\n",
       " 15810,\n",
       " 15811,\n",
       " 15812,\n",
       " 15813,\n",
       " 15814,\n",
       " 15815,\n",
       " 15816,\n",
       " 15817,\n",
       " 15818,\n",
       " 15819,\n",
       " 15820,\n",
       " 15821,\n",
       " 15822,\n",
       " 15823,\n",
       " 15824,\n",
       " 15825,\n",
       " 15826,\n",
       " 15827,\n",
       " 15828,\n",
       " 15829,\n",
       " 15830,\n",
       " 15831,\n",
       " 15832,\n",
       " 15833,\n",
       " 15834,\n",
       " 15835,\n",
       " 15836,\n",
       " 15837,\n",
       " 15838,\n",
       " 15839,\n",
       " 15840,\n",
       " 15841,\n",
       " 15842,\n",
       " 15847,\n",
       " 15848,\n",
       " 15849,\n",
       " 15850,\n",
       " 15891,\n",
       " 15892,\n",
       " 15893,\n",
       " 15894,\n",
       " 15935,\n",
       " 15936,\n",
       " 15937,\n",
       " 15938,\n",
       " 15979,\n",
       " 15980,\n",
       " 15981,\n",
       " 15982,\n",
       " 16023,\n",
       " 16024,\n",
       " 16025,\n",
       " 16026,\n",
       " 16067,\n",
       " 16068,\n",
       " 16069,\n",
       " 16070,\n",
       " 16111,\n",
       " 16112,\n",
       " 16113,\n",
       " 16114,\n",
       " 16155,\n",
       " 16156,\n",
       " 16157,\n",
       " 16158,\n",
       " 16199,\n",
       " 16200,\n",
       " 16201,\n",
       " 16202,\n",
       " 16243,\n",
       " 16244,\n",
       " 16245,\n",
       " 16246,\n",
       " 162160,\n",
       " 162161,\n",
       " 162162,\n",
       " 162163,\n",
       " 162164,\n",
       " 162165,\n",
       " 162166,\n",
       " 162167,\n",
       " 162168,\n",
       " 162169,\n",
       " 162170,\n",
       " 162171,\n",
       " 162172,\n",
       " 162173,\n",
       " 162174,\n",
       " 162175,\n",
       " 162176,\n",
       " 162177,\n",
       " 162178,\n",
       " 162179,\n",
       " 162180,\n",
       " 162181,\n",
       " 162182,\n",
       " 162183,\n",
       " 162184,\n",
       " 162185,\n",
       " 162186,\n",
       " 162187,\n",
       " 162188,\n",
       " 162189,\n",
       " 162190,\n",
       " 162191,\n",
       " 162192,\n",
       " 162193,\n",
       " 162194,\n",
       " 162195,\n",
       " 162196,\n",
       " 162197,\n",
       " 162198,\n",
       " 162199,\n",
       " 162380,\n",
       " 162381,\n",
       " 162382,\n",
       " 162383,\n",
       " 162384,\n",
       " 162385,\n",
       " 162386,\n",
       " 162387,\n",
       " 162388,\n",
       " 162389,\n",
       " 162390,\n",
       " 162391,\n",
       " 162392,\n",
       " 162393,\n",
       " 162394,\n",
       " 162395,\n",
       " 162396,\n",
       " 162397,\n",
       " 162398,\n",
       " 162399,\n",
       " 162400,\n",
       " 162401,\n",
       " 162402,\n",
       " 162403,\n",
       " 162404,\n",
       " 162405,\n",
       " 162406,\n",
       " 162407,\n",
       " 162408,\n",
       " 162409,\n",
       " 162410,\n",
       " 162411,\n",
       " 162412,\n",
       " 162413,\n",
       " 162414,\n",
       " 162415,\n",
       " 162416,\n",
       " 162417,\n",
       " 162418,\n",
       " 162419,\n",
       " 162420,\n",
       " 162421,\n",
       " 162422,\n",
       " 162423,\n",
       " 162424,\n",
       " 162425,\n",
       " 162426,\n",
       " 162427,\n",
       " 162428,\n",
       " 162429,\n",
       " 162430,\n",
       " 162431,\n",
       " 162432,\n",
       " 162433,\n",
       " 162434,\n",
       " 162435,\n",
       " 162436,\n",
       " 162437,\n",
       " 162438,\n",
       " 162439,\n",
       " 162440,\n",
       " 162441,\n",
       " 162442,\n",
       " 162443,\n",
       " 162444,\n",
       " 162445,\n",
       " 162446,\n",
       " 162447,\n",
       " 162448,\n",
       " 162449,\n",
       " 162450,\n",
       " 162451,\n",
       " 162452,\n",
       " 162453,\n",
       " 162454,\n",
       " 162455,\n",
       " 162456,\n",
       " 162457,\n",
       " 162458,\n",
       " 162459,\n",
       " 162460,\n",
       " 162461,\n",
       " 162462,\n",
       " 162463,\n",
       " 162464,\n",
       " 162465,\n",
       " 162466,\n",
       " 162467,\n",
       " 162468,\n",
       " 162469,\n",
       " 162470,\n",
       " 162471,\n",
       " 162472,\n",
       " 162473,\n",
       " 162474,\n",
       " 162475,\n",
       " 162476,\n",
       " 162477,\n",
       " 162478,\n",
       " 162479,\n",
       " 162480,\n",
       " 162481,\n",
       " 162482,\n",
       " 162483,\n",
       " 162484,\n",
       " 162485,\n",
       " 162486,\n",
       " 162487,\n",
       " 162488,\n",
       " 162489,\n",
       " 162490,\n",
       " 162491,\n",
       " 162492,\n",
       " 162493,\n",
       " 162494,\n",
       " 162495,\n",
       " 162496,\n",
       " 162497,\n",
       " 162498,\n",
       " 162499,\n",
       " 162500,\n",
       " 162501,\n",
       " 162502,\n",
       " 162503,\n",
       " 162504,\n",
       " 162505,\n",
       " 162506,\n",
       " 162507,\n",
       " 162508,\n",
       " 162509,\n",
       " 162510,\n",
       " 162511,\n",
       " 162512,\n",
       " 162513,\n",
       " 162514,\n",
       " 162515,\n",
       " 162516,\n",
       " 162517,\n",
       " 162518,\n",
       " 162519,\n",
       " 162520,\n",
       " 162521,\n",
       " 162522,\n",
       " 162523,\n",
       " 162524,\n",
       " 162525,\n",
       " 162526,\n",
       " 162527,\n",
       " 162528,\n",
       " 162529,\n",
       " 162530,\n",
       " 162531,\n",
       " 162532,\n",
       " 162533,\n",
       " 162534,\n",
       " 162535,\n",
       " 162536,\n",
       " 162537,\n",
       " 162538,\n",
       " 162539,\n",
       " 162540,\n",
       " 162541,\n",
       " 162542,\n",
       " 162543,\n",
       " 162544,\n",
       " 162545,\n",
       " 162546,\n",
       " 162547,\n",
       " 162548,\n",
       " 162549,\n",
       " 162550,\n",
       " 162551,\n",
       " 162552,\n",
       " 162553,\n",
       " 162554,\n",
       " 162555,\n",
       " 162556,\n",
       " 162557,\n",
       " 162558,\n",
       " 162559,\n",
       " 162560,\n",
       " 162561,\n",
       " 162562,\n",
       " 162563,\n",
       " 162564,\n",
       " 162565,\n",
       " 162566,\n",
       " 162567,\n",
       " 162568,\n",
       " 162569,\n",
       " 162570,\n",
       " 162571,\n",
       " 162572,\n",
       " 162573,\n",
       " 162574,\n",
       " 162575,\n",
       " 162576,\n",
       " 162577,\n",
       " 162578,\n",
       " 162579,\n",
       " 162580,\n",
       " 162581,\n",
       " 162582,\n",
       " 162583,\n",
       " 162584,\n",
       " 162585,\n",
       " 162586,\n",
       " 162587,\n",
       " 162588,\n",
       " 162589,\n",
       " 162590,\n",
       " 162591,\n",
       " 162592,\n",
       " 162593,\n",
       " 162594,\n",
       " 162595,\n",
       " 162596,\n",
       " 162597,\n",
       " 162598,\n",
       " 162599,\n",
       " 162600,\n",
       " 162601,\n",
       " 162602,\n",
       " 162603,\n",
       " 162640,\n",
       " 162641,\n",
       " 162642,\n",
       " 162643,\n",
       " 162644,\n",
       " 162645,\n",
       " 162646,\n",
       " 162647,\n",
       " 162648,\n",
       " 162649,\n",
       " 162650,\n",
       " 162651,\n",
       " 162652,\n",
       " 162653,\n",
       " 162654,\n",
       " 162655,\n",
       " 162656,\n",
       " 162657,\n",
       " 162658,\n",
       " 162659,\n",
       " 162660,\n",
       " 162661,\n",
       " 162662,\n",
       " 162663,\n",
       " 162664,\n",
       " 162665,\n",
       " 162666,\n",
       " 162667,\n",
       " 162668,\n",
       " 162669,\n",
       " 162670,\n",
       " 162671,\n",
       " 162672,\n",
       " 162673,\n",
       " 162674,\n",
       " 162675,\n",
       " 162820,\n",
       " 162821,\n",
       " 162822,\n",
       " 162823,\n",
       " 162860,\n",
       " 162861,\n",
       " 162862,\n",
       " 162863,\n",
       " 162864,\n",
       " 162865,\n",
       " 162866,\n",
       " 162867,\n",
       " 162868,\n",
       " 162869,\n",
       " 162870,\n",
       " 162871,\n",
       " 162872,\n",
       " 162873,\n",
       " 162874,\n",
       " 162875,\n",
       " 162876,\n",
       " 162877,\n",
       " 162878,\n",
       " 162879,\n",
       " 162880,\n",
       " 162881,\n",
       " 162882,\n",
       " 162883,\n",
       " 162884,\n",
       " 162885,\n",
       " 162886,\n",
       " 162887,\n",
       " 162888,\n",
       " 162889,\n",
       " 162890,\n",
       " 162891,\n",
       " 162892,\n",
       " 162893,\n",
       " 162894,\n",
       " 162895,\n",
       " 163040,\n",
       " 163041,\n",
       " 163042,\n",
       " 163043,\n",
       " 163080,\n",
       " 163081,\n",
       " 163082,\n",
       " 163083,\n",
       " 163084,\n",
       " 163085,\n",
       " 163086,\n",
       " 163087,\n",
       " 163088,\n",
       " 163089,\n",
       " 163090,\n",
       " 163091,\n",
       " 163092,\n",
       " 163093,\n",
       " 163094,\n",
       " 163095,\n",
       " 163096,\n",
       " 163097,\n",
       " 163098,\n",
       " 163099,\n",
       " 163100,\n",
       " 163101,\n",
       " 163102,\n",
       " 163103,\n",
       " 163104,\n",
       " 163105,\n",
       " 163106,\n",
       " 163107,\n",
       " 163108,\n",
       " 163109,\n",
       " 163110,\n",
       " 163111,\n",
       " 163112,\n",
       " 163113,\n",
       " 163114,\n",
       " 163115,\n",
       " 163260,\n",
       " 163261,\n",
       " 163262,\n",
       " 163263,\n",
       " 163300,\n",
       " 163301,\n",
       " 163302,\n",
       " 163303,\n",
       " 163304,\n",
       " 163305,\n",
       " 163306,\n",
       " 163307,\n",
       " 163308,\n",
       " 163309,\n",
       " 163310,\n",
       " 163311,\n",
       " 163312,\n",
       " 163313,\n",
       " 163314,\n",
       " 163315,\n",
       " 163316,\n",
       " 163317,\n",
       " 163318,\n",
       " 163319,\n",
       " 163320,\n",
       " 163321,\n",
       " 163322,\n",
       " 163323,\n",
       " 163324,\n",
       " 163325,\n",
       " 163326,\n",
       " 163327,\n",
       " 163328,\n",
       " 163329,\n",
       " 163330,\n",
       " 163331,\n",
       " 163332,\n",
       " 163333,\n",
       " 163334,\n",
       " 163335,\n",
       " 163480,\n",
       " 163481,\n",
       " 163482,\n",
       " 163483,\n",
       " 163520,\n",
       " 163521,\n",
       " 163522,\n",
       " 163523,\n",
       " 163524,\n",
       " 163525,\n",
       " 163526,\n",
       " 163527,\n",
       " 163528,\n",
       " 163529,\n",
       " 163530,\n",
       " 163531,\n",
       " 163532,\n",
       " 163533,\n",
       " 163534,\n",
       " 163535,\n",
       " 163536,\n",
       " 163537,\n",
       " 163538,\n",
       " 163539,\n",
       " 163540,\n",
       " 163541,\n",
       " 163542,\n",
       " 163543,\n",
       " 163544,\n",
       " 163545,\n",
       " 163546,\n",
       " 163547,\n",
       " 163548,\n",
       " 163549,\n",
       " 163550,\n",
       " 163551,\n",
       " 163552,\n",
       " 163553,\n",
       " 163554,\n",
       " 163555,\n",
       " 163700,\n",
       " 163701,\n",
       " 163702,\n",
       " 163703,\n",
       " 163740,\n",
       " 163741,\n",
       " 163742,\n",
       " 163743,\n",
       " 163744,\n",
       " 163745,\n",
       " 163746,\n",
       " 163747,\n",
       " 163748,\n",
       " 163749,\n",
       " 163750,\n",
       " 163751,\n",
       " 163752,\n",
       " 163753,\n",
       " 163754,\n",
       " 163755,\n",
       " 163756,\n",
       " 163757,\n",
       " 163758,\n",
       " 163759,\n",
       " 163760,\n",
       " 163761,\n",
       " 163762,\n",
       " 163763,\n",
       " 163764,\n",
       " 163765,\n",
       " 163766,\n",
       " 163767,\n",
       " 163768,\n",
       " 163769,\n",
       " 163770,\n",
       " 163771,\n",
       " 163772,\n",
       " 163773,\n",
       " 163774,\n",
       " 163775,\n",
       " 163920,\n",
       " 163921,\n",
       " 163922,\n",
       " 163923,\n",
       " 163960,\n",
       " 163961,\n",
       " 163962,\n",
       " 163963,\n",
       " 163964,\n",
       " 163965,\n",
       " 163966,\n",
       " 163967,\n",
       " 163968,\n",
       " 163969,\n",
       " 163970,\n",
       " 163971,\n",
       " 163972,\n",
       " 163973,\n",
       " 163974,\n",
       " 163975,\n",
       " 163976,\n",
       " 163977,\n",
       " 163978,\n",
       " 163979,\n",
       " 163980,\n",
       " 163981,\n",
       " 163982,\n",
       " 163983,\n",
       " 163984,\n",
       " 163985,\n",
       " 163986,\n",
       " 163987,\n",
       " 163988,\n",
       " 163989,\n",
       " 163990,\n",
       " 163991,\n",
       " 163992,\n",
       " 163993,\n",
       " 163994,\n",
       " 163995,\n",
       " 164140,\n",
       " 164141,\n",
       " 164142,\n",
       " 164143,\n",
       " 164180,\n",
       " 164181,\n",
       " 164182,\n",
       " 164183,\n",
       " 164184,\n",
       " 164185,\n",
       " 164186,\n",
       " 164187,\n",
       " 164188,\n",
       " 164189,\n",
       " 164190,\n",
       " 164191,\n",
       " 164192,\n",
       " 164193,\n",
       " 164194,\n",
       " 164195,\n",
       " 164196,\n",
       " 164197,\n",
       " 164198,\n",
       " 164199,\n",
       " 164200,\n",
       " 164201,\n",
       " 164202,\n",
       " 164203,\n",
       " 164204,\n",
       " 164205,\n",
       " 164206,\n",
       " 164207,\n",
       " 164208,\n",
       " 164209,\n",
       " 164210,\n",
       " 164211,\n",
       " 164212,\n",
       " 164213,\n",
       " 164214,\n",
       " 164215,\n",
       " 164360,\n",
       " 164361,\n",
       " 164362,\n",
       " 164363,\n",
       " 164400,\n",
       " 164401,\n",
       " 164402,\n",
       " 164403,\n",
       " 164404,\n",
       " 164405,\n",
       " 164406,\n",
       " 164407,\n",
       " 164408,\n",
       " 164409,\n",
       " 164410,\n",
       " 164411,\n",
       " 164412,\n",
       " 164413,\n",
       " 164414,\n",
       " 164415,\n",
       " 164416,\n",
       " 164417,\n",
       " 164418,\n",
       " 164419,\n",
       " 164420,\n",
       " 164421,\n",
       " 164422,\n",
       " 164423,\n",
       " 164424,\n",
       " 164425,\n",
       " 164426,\n",
       " 164427,\n",
       " 164428,\n",
       " 164429,\n",
       " 164430,\n",
       " 164431,\n",
       " 164432,\n",
       " 164433,\n",
       " 164434,\n",
       " 164435,\n",
       " 164580,\n",
       " 164581,\n",
       " 164582,\n",
       " 164583,\n",
       " 164620,\n",
       " 164621,\n",
       " 164622,\n",
       " 164623,\n",
       " 164624,\n",
       " 164625,\n",
       " 164626,\n",
       " 164627,\n",
       " 164628,\n",
       " 164629,\n",
       " 164630,\n",
       " 164631,\n",
       " 164632,\n",
       " 164633,\n",
       " 164634,\n",
       " 164635,\n",
       " 164636,\n",
       " 164637,\n",
       " 164638,\n",
       " 164639,\n",
       " 164640,\n",
       " 164641,\n",
       " 164642,\n",
       " 164643,\n",
       " 164644,\n",
       " 164645,\n",
       " 164646,\n",
       " 164647,\n",
       " 164648,\n",
       " 164649,\n",
       " 164650,\n",
       " 164651,\n",
       " 164652,\n",
       " 164653,\n",
       " 164654,\n",
       " 164655]"
      ]
     },
     "execution_count": 25,
     "metadata": {},
     "output_type": "execute_result"
    }
   ],
   "source": [
    "match_keys"
   ]
  },
  {
   "cell_type": "code",
   "execution_count": 26,
   "metadata": {},
   "outputs": [
    {
     "data": {
      "text/plain": [
       "{'topic_id': 8,\n",
       " 'facet_id': 'F0968',\n",
       " 'initial_request': 'I want to know about appraisals.',\n",
       " 'question': 'are you looking for appraisal companies near you',\n",
       " 'answer': 'yes',\n",
       " 'conversation_context': [],\n",
       " 'context_id': 968,\n",
       " 'topic_desc': 'How are home values appraised? I want to know how home appraisals are done.',\n",
       " 'facet_desc': \"What companies can give an appraisal of my home\\\\'s value?\"}"
      ]
     },
     "execution_count": 26,
     "metadata": {},
     "output_type": "execute_result"
    }
   ],
   "source": [
    "devset[2291]"
   ]
  },
  {
   "cell_type": "code",
   "execution_count": 27,
   "metadata": {},
   "outputs": [
    {
     "data": {
      "text/plain": [
       "{'topic_id': 8,\n",
       " 'facet_id': 'F0969',\n",
       " 'initial_request': 'I want to know about appraisals.',\n",
       " 'question': 'are you looking for appraisal companies near you',\n",
       " 'answer': 'i am looking for jewlery appraisal companies',\n",
       " 'conversation_context': [],\n",
       " 'context_id': 969,\n",
       " 'topic_desc': 'How are home values appraised? I want to know how home appraisals are done.',\n",
       " 'facet_desc': \"I\\\\'m looking for companies that appraise jewelry.\"}"
      ]
     },
     "execution_count": 27,
     "metadata": {},
     "output_type": "execute_result"
    }
   ],
   "source": [
    "devset[2292]"
   ]
  },
  {
   "cell_type": "code",
   "execution_count": 28,
   "metadata": {},
   "outputs": [
    {
     "data": {
      "text/plain": [
       "{'topic_id': 8,\n",
       " 'facet_id': 'F0968',\n",
       " 'initial_request': 'I want to know about appraisals.',\n",
       " 'question': 'are you looking for a type of appraiser',\n",
       " 'answer': 'im looking for nearby companies that do home appraisals',\n",
       " 'conversation_context': [{'question': 'are you looking for appraisal companies near you',\n",
       "   'answer': 'yes'}],\n",
       " 'context_id': 2291,\n",
       " 'topic_desc': 'How are home values appraised? I want to know how home appraisals are done.',\n",
       " 'facet_desc': \"What companies can give an appraisal of my home\\\\'s value?\"}"
      ]
     },
     "execution_count": 28,
     "metadata": {},
     "output_type": "execute_result"
    }
   ],
   "source": [
    "devset[15755]"
   ]
  },
  {
   "cell_type": "code",
   "execution_count": null,
   "metadata": {},
   "outputs": [],
   "source": []
  },
  {
   "cell_type": "code",
   "execution_count": null,
   "metadata": {},
   "outputs": [],
   "source": []
  },
  {
   "cell_type": "code",
   "execution_count": null,
   "metadata": {},
   "outputs": [],
   "source": []
  },
  {
   "cell_type": "code",
   "execution_count": null,
   "metadata": {},
   "outputs": [],
   "source": []
  },
  {
   "cell_type": "code",
   "execution_count": null,
   "metadata": {},
   "outputs": [],
   "source": []
  },
  {
   "cell_type": "code",
   "execution_count": 24,
   "metadata": {
    "pycharm": {
     "name": "#%%\n"
    }
   },
   "outputs": [
    {
     "name": "stderr",
     "output_type": "stream",
     "text": [
      "[nltk_data] Downloading package punkt to /Users/moli/nltk_data...\n",
      "[nltk_data]   Package punkt is already up-to-date!\n",
      "[nltk_data] Downloading package stopwords to /Users/moli/nltk_data...\n",
      "[nltk_data]   Package stopwords is already up-to-date!\n"
     ]
    }
   ],
   "source": [
    "import pandas as pd\n",
    "from rank_bm25 import BM25Okapi\n",
    "import nltk\n",
    "import pickle\n",
    "from nltk.stem.porter import PorterStemmer\n",
    "\n",
    "nltk.download('punkt')\n",
    "nltk.download('stopwords')\n",
    "\n",
    "def stem_tokenize(text, remove_stopwords=True):\n",
    "  stemmer = PorterStemmer()\n",
    "  tokens = [word for sent in nltk.sent_tokenize(text) \\\n",
    "                                      for word in nltk.word_tokenize(sent)]\n",
    "  tokens = [word for word in tokens if word not in \\\n",
    "          nltk.corpus.stopwords.words('english')]\n",
    "  return [stemmer.stem(word) for word in tokens]"
   ]
  },
  {
   "cell_type": "code",
   "execution_count": 29,
   "metadata": {
    "pycharm": {
     "name": "#%%\n"
    }
   },
   "outputs": [],
   "source": [
    "# Files paths\n",
    "\n",
    "multi_turn_request_file_path = '../data/dev_synthetic.pkl'\n",
    "question_bank_path = '../data/question_bank.tsv'\n",
    "run_file_path = '../sample_runs/dev_bm25_multi_turn'"
   ]
  },
  {
   "cell_type": "code",
   "execution_count": 18,
   "metadata": {
    "colab": {
     "base_uri": "https://localhost:8080/",
     "height": 84
    },
    "colab_type": "code",
    "id": "M13NOK7Kytuv",
    "outputId": "ded6d015-5413-41b0-ec24-ed91c9440a98"
   },
   "outputs": [],
   "source": [
    "# Reads files and build bm25 corpus (index)\n",
    "with open(multi_turn_request_file_path, 'rb') as fi:\n",
    "    dev = pickle.load(fi)\n",
    "question_bank = pd.read_csv(question_bank_path, sep='\\t').fillna('')\n",
    "\n",
    "question_bank['tokenized_question_list'] = question_bank['question'].map(stem_tokenize)\n",
    "question_bank['tokenized_question_str'] = question_bank['tokenized_question_list'].map(lambda x: ' '.join(x))\n",
    "\n",
    "bm25_corpus = question_bank['tokenized_question_list'].tolist()\n",
    "bm25 = BM25Okapi(bm25_corpus)"
   ]
  },
  {
   "cell_type": "code",
   "execution_count": 19,
   "metadata": {
    "pycharm": {
     "name": "#%%\n"
    }
   },
   "outputs": [],
   "source": [
    "# Reads the dev file and create the context_dict to make predictions\n",
    "context_dict = dict()\n",
    "for rec_id in dev:\n",
    "    ctx_id = dev[rec_id]['context_id']\n",
    "    if ctx_id not in context_dict:\n",
    "        context_dict[ctx_id] = {'initial_request': dev[rec_id]['initial_request'],\n",
    "                                'conversation_context': dev[rec_id]['conversation_context']}"
   ]
  },
  {
   "cell_type": "code",
   "execution_count": 22,
   "metadata": {
    "colab": {},
    "colab_type": "code",
    "id": "mG4IWxSfytpT"
   },
   "outputs": [],
   "source": [
    "# Runs bm25 for every query and stores output in file.\n",
    "\n",
    "def build_query(context_info):\n",
    "    query_str = context_info['initial_request']\n",
    "    for ctx in context_info['conversation_context']:\n",
    "        query_str += ctx['question'] + ' ' + ctx['answer']\n",
    "    return query_str\n",
    "\n",
    "def select_no_duplicate_questions(bm25_q_list, conv_context):\n",
    "    prev_questions = [x['question'] for x in conv_context]\n",
    "    bm25_preds = question_bank.set_index('tokenized_question_str').loc[bm25_q_list, 'question'].tolist()\n",
    "    pred_list = []\n",
    "    for q in bm25_preds:\n",
    "        if q not in prev_questions:\n",
    "            pred_list.append(q)\n",
    "    return pred_list\n",
    "\n",
    "with open(run_file_path, 'w') as fo:\n",
    "  for ctx_id in context_dict:\n",
    "    query = build_query(context_dict[ctx_id])\n",
    "    bm25_ranked_list = bm25.get_top_n(stem_tokenize(query, True), \n",
    "                                    bm25_corpus,\n",
    "                                    n=5)\n",
    "    bm25_q_list = [' '.join(sent) for sent in bm25_ranked_list]\n",
    "    preds = select_no_duplicate_questions(bm25_q_list, context_dict[ctx_id]['conversation_context'])\n",
    "    for i, qid in enumerate(preds):\n",
    "        fo.write('{} 0 \"{}\" {} {} bm25_multi_turn\\n'.format(ctx_id, qid, i, len(preds)-i))\n",
    "        break # we write only one result per context."
   ]
  },
  {
   "cell_type": "code",
   "execution_count": 32,
   "metadata": {
    "colab": {
     "base_uri": "https://localhost:8080/",
     "height": 202
    },
    "colab_type": "code",
    "id": "hh-2P1kJ5Gp2",
    "outputId": "66540c57-be2d-46f6-a9cc-e44d95d2fbad"
   },
   "outputs": [
    {
     "name": "stdout",
     "output_type": "stream",
     "text": [
      "NDCG1: 0.21898645957785742\r\n",
      "NDCG3: 0.201618860054938\r\n",
      "NDCG5: 0.19652670322787674\r\n",
      "NDCG10: 0.1856817702651898\r\n",
      "NDCG20: 0.17112798502504814\r\n",
      "P1: 0.2747245453338643\r\n",
      "P3: 0.2423116067082614\r\n",
      "P5: 0.2295632550112837\r\n",
      "P10: 0.2003849727864065\r\n",
      "P20: 0.15768949953537767\r\n",
      "MRR100: 0.35986740195719213\r\n"
     ]
    }
   ],
   "source": [
    "! python ../official_src/clariq_eval_tool.py    --eval_task document_relevance\\\n",
    "                                --data_dir ../data/ \\\n",
    "                                --multi_turn \\\n",
    "                                --experiment_type dev \\\n",
    "                                --run_file {run_file_path} #\\\n",
    "                                # --out_file {run_file_path}.eval"
   ]
  },
  {
   "cell_type": "code",
   "execution_count": null,
   "metadata": {
    "colab": {},
    "colab_type": "code",
    "id": "29kHe2dQ5JWV"
   },
   "outputs": [],
   "source": []
  }
 ],
 "metadata": {
  "colab": {
   "collapsed_sections": [],
   "name": "ClariQ_Baseline_BM25",
   "provenance": [],
   "toc_visible": true
  },
  "kernelspec": {
   "display_name": "Python 3",
   "language": "python",
   "name": "python3"
  },
  "language_info": {
   "codemirror_mode": {
    "name": "ipython",
    "version": 3
   },
   "file_extension": ".py",
   "mimetype": "text/x-python",
   "name": "python",
   "nbconvert_exporter": "python",
   "pygments_lexer": "ipython3",
   "version": "3.6.5"
  }
 },
 "nbformat": 4,
 "nbformat_minor": 1
}
