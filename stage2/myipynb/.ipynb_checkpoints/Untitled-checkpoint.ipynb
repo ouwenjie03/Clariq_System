{
 "cells": [
  {
   "cell_type": "code",
   "execution_count": 1,
   "metadata": {},
   "outputs": [],
   "source": [
    "from collections import Counter"
   ]
  },
  {
   "cell_type": "code",
   "execution_count": 42,
   "metadata": {},
   "outputs": [
    {
     "data": {
      "text/plain": [
       "(3, 2)"
      ]
     },
     "execution_count": 42,
     "metadata": {},
     "output_type": "execute_result"
    }
   ],
   "source": [
    "s = \"abc\"\n",
    "t = \"bc\"\n",
    "len(s), len(t)"
   ]
  },
  {
   "cell_type": "code",
   "execution_count": 51,
   "metadata": {},
   "outputs": [
    {
     "name": "stdout",
     "output_type": "stream",
     "text": [
      "0 0 a a 0 Counter() Counter({'b': 1, 'c': 1})\n",
      "1 0 b a -1 Counter({'a': 0}) Counter({'b': 1, 'c': 1})\n",
      "1 1 b b -1 Counter({'a': 0}) Counter({'b': 1, 'c': 1})\n",
      "1 2 b c 0 Counter({'b': 1, 'a': 0}) Counter({'b': 1, 'c': 1})\n"
     ]
    }
   ],
   "source": [
    "l = 0\n",
    "r = 0\n",
    "dist = 0\n",
    "tcnt = Counter(t)\n",
    "scnt = Counter()\n",
    "\n",
    "resl = -1\n",
    "resr = 100000000\n",
    "\n",
    "while r < len(s):\n",
    "    print(l, r, s[l], s[r], dist, scnt, tcnt)\n",
    "    if s[r] in tcnt:\n",
    "        dist += 1\n",
    "    if scnt[s[r]] == tcnt[s[r]]:\n",
    "        while scnt[s[l]] > tcnt[s[l]] or s[l] == s[r]:\n",
    "            scnt[s[l]] -= 1\n",
    "            l += 1\n",
    "            if l >= len(s):\n",
    "                break\n",
    "            if s[l] in tcnt:\n",
    "                dist -= 1\n",
    "            print(l, r, s[l], s[r], dist, scnt, tcnt)\n",
    "            \n",
    "    scnt[s[r]] += 1\n",
    "    r += 1\n",
    "\n",
    "    if dist >= len(t) and (r - l + 1) < (resr - resl):\n",
    "        resl = l\n",
    "        resr = r"
   ]
  },
  {
   "cell_type": "code",
   "execution_count": 52,
   "metadata": {},
   "outputs": [
    {
     "data": {
      "text/plain": [
       "(-1, 100000000, 'c')"
      ]
     },
     "execution_count": 52,
     "metadata": {},
     "output_type": "execute_result"
    }
   ],
   "source": [
    "resl, resr, s[resl:resr]"
   ]
  },
  {
   "cell_type": "code",
   "execution_count": null,
   "metadata": {},
   "outputs": [],
   "source": []
  }
 ],
 "metadata": {
  "kernelspec": {
   "display_name": "Python 3",
   "language": "python",
   "name": "python3"
  },
  "language_info": {
   "codemirror_mode": {
    "name": "ipython",
    "version": 3
   },
   "file_extension": ".py",
   "mimetype": "text/x-python",
   "name": "python",
   "nbconvert_exporter": "python",
   "pygments_lexer": "ipython3",
   "version": "3.6.5"
  }
 },
 "nbformat": 4,
 "nbformat_minor": 2
}
